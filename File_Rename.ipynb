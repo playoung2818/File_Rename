import pandas as pd
import os

# Load dataset 
file_path = r"C:\Users\Admin\Downloads\A3. Report- SO-WOOF (8).xlsx"
folder_path = r"Z:\Draft"  # Folder containing files to rename

# Load the Excel file
df = pd.read_excel(file_path)

# Drop duplicate 'Outgoing Form#' rows, keeping only the first
df = df.drop_duplicates(subset="Outgoing Form#", keep="first")

# Generate the formatted Filename 
df["Formatted_Output"] = (
    df["Outgoing Form#"].astype(str) + "_" +
    df["Invoice#"].astype(str)+ "_" +
    df["Customer"].astype(str)
)

# Get the list of files sorted by last modified time (oldest to newest)
files = sorted(
    os.listdir(folder_path),
    key=lambda f: os.path.getmtime(os.path.join(folder_path, f))  # Sort by modification time
)

# Ensure the number of files matches the DataFrame rows
if len(files) != len(df):
    print(f"Warning: The number of files ({len(files)}) does not match the number of rows ({len(df)}).")

# Rename files based on modification time order
for index, (old_name, row) in enumerate(zip(files, df.iterrows())):
    old_path = os.path.join(folder_path, old_name)
    
    # Extract formatted name from DataFrame
    formatted_name = str(row[1]["Formatted_Output"]).strip()
    
    # Ensure filename is not empty before renaming
    if formatted_name and not formatted_name.lower() == "nan":
        new_name = formatted_name + os.path.splitext(old_name)[1]  # Keep original file extension
        new_path = os.path.join(folder_path, new_name)

        # Rename the file
        try:
            os.rename(old_path, new_path)
            print(f"Renamed: {old_name} → {new_name}")
        except Exception as e:
            print(f"Error renaming {old_name}: {e}")
    else:
        print(f"Skipping {old_name} due to missing filename.")

print("All files renamed successfully!")
